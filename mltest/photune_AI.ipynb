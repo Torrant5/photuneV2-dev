{
 "cells": [
  {
   "cell_type": "code",
   "execution_count": 1,
   "id": "1ab2564c",
   "metadata": {},
   "outputs": [],
   "source": [
    "import torch\n",
    "from torch import nn\n",
    "import torch.nn.functional as F\n",
    "from transformers import AutoModel, AutoTokenizer\n",
    "import pandas as pd"
   ]
  },
  {
   "cell_type": "code",
   "execution_count": 2,
   "id": "6e2b2b8a",
   "metadata": {},
   "outputs": [],
   "source": [
    "from tqdm.notebook import trange"
   ]
  },
  {
   "cell_type": "code",
   "execution_count": 3,
   "id": "84d637d0",
   "metadata": {},
   "outputs": [
    {
     "name": "stderr",
     "output_type": "stream",
     "text": [
      "Some weights of the model checkpoint at bandainamco-mirai/distilbert-base-japanese were not used when initializing DistilBertModel: ['vocab_transform.bias', 'vocab_layer_norm.bias', 'vocab_projector.bias', 'vocab_projector.weight', 'vocab_layer_norm.weight', 'vocab_transform.weight']\n",
      "- This IS expected if you are initializing DistilBertModel from the checkpoint of a model trained on another task or with another architecture (e.g. initializing a BertForSequenceClassification model from a BertForPreTraining model).\n",
      "- This IS NOT expected if you are initializing DistilBertModel from the checkpoint of a model that you expect to be exactly identical (initializing a BertForSequenceClassification model from a BertForSequenceClassification model).\n"
     ]
    }
   ],
   "source": [
    "tokenizer = AutoTokenizer.from_pretrained(\"cl-tohoku/bert-base-japanese-whole-word-masking\", max_length=512)\n",
    "model = AutoModel.from_pretrained(\"bandainamco-mirai/distilbert-base-japanese\") "
   ]
  },
  {
   "cell_type": "code",
   "execution_count": 4,
   "id": "bbfdf429",
   "metadata": {},
   "outputs": [],
   "source": [
    "playlists_df = pd.read_pickle('all_playlists.pkl')\n",
    "playlists_text = pd.read_pickle('playlists_text.pkl')\n",
    "categories = playlists_df[\"category\"].drop_duplicates().reset_index()"
   ]
  },
  {
   "cell_type": "code",
   "execution_count": null,
   "id": "97d990ee",
   "metadata": {},
   "outputs": [],
   "source": []
  },
  {
   "cell_type": "markdown",
   "id": "cda9141e",
   "metadata": {},
   "source": [
    "### カテゴリ、プレイリストから分散表現にし、保存"
   ]
  },
  {
   "cell_type": "code",
   "execution_count": 5,
   "id": "cafa6946",
   "metadata": {},
   "outputs": [],
   "source": [
    "def getTextVector(model, tokenizer, text):\n",
    "    wakati_ids = tokenizer.encode(text, return_tensors='pt')\n",
    "    model.eval()\n",
    "    with torch.no_grad():\n",
    "        output = model(wakati_ids)\n",
    "    lastlayer = output.last_hidden_state\n",
    "    return lastlayer[:, 0, :]"
   ]
  },
  {
   "cell_type": "markdown",
   "id": "4925ffba",
   "metadata": {},
   "source": [
    "カテゴリ"
   ]
  },
  {
   "cell_type": "code",
   "execution_count": 8,
   "id": "cd521c28",
   "metadata": {},
   "outputs": [
    {
     "data": {
      "application/vnd.jupyter.widget-view+json": {
       "model_id": "5679c3f1a3b7473ab0e14f6a3a117bff",
       "version_major": 2,
       "version_minor": 0
      },
      "text/plain": [
       "  0%|          | 0/44 [00:00<?, ?it/s]"
      ]
     },
     "metadata": {},
     "output_type": "display_data"
    }
   ],
   "source": [
    "categories_tensor = getTextVector(model, tokenizer, categories[\"category\"][0])\n",
    "for i in trange(1, len(categories)):\n",
    "    tv = getTextVector(model, tokenizer, categories[\"category\"][i])\n",
    "    categories_tensor = torch.cat((categories_tensor, tv), 0)\n",
    "# torch.save(categories_tensor, 'categories_vectors.pt')"
   ]
  },
  {
   "cell_type": "code",
   "execution_count": null,
   "id": "f2d09900",
   "metadata": {},
   "outputs": [],
   "source": []
  },
  {
   "cell_type": "markdown",
   "id": "3adb3873",
   "metadata": {},
   "source": [
    "プレイリスト全体"
   ]
  },
  {
   "cell_type": "code",
   "execution_count": 9,
   "id": "7f056a7b",
   "metadata": {},
   "outputs": [
    {
     "data": {
      "application/vnd.jupyter.widget-view+json": {
       "model_id": "133fff0154a0422381ac6f971f4519b5",
       "version_major": 2,
       "version_minor": 0
      },
      "text/plain": [
       "  0%|          | 0/1760 [00:00<?, ?it/s]"
      ]
     },
     "metadata": {},
     "output_type": "display_data"
    }
   ],
   "source": [
    "tvs_tensor = getTextVector(model, tokenizer, playlists_text[0])\n",
    "\n",
    "for i in trange(1, len(playlists_text)):\n",
    "    tv = getTextVector(model, tokenizer, playlists_text[i])\n",
    "    tvs_tensor = torch.cat((tvs_tensor, tv), 0)\n",
    "    \n",
    "# torch.save(tvs_tensor, 'playlist_text_vectors.pt')"
   ]
  },
  {
   "cell_type": "code",
   "execution_count": 10,
   "id": "da0a46d9",
   "metadata": {},
   "outputs": [],
   "source": [
    "#load_pt = torch.load('playlist_text_vectors.pt')"
   ]
  },
  {
   "cell_type": "code",
   "execution_count": 11,
   "id": "596a9294",
   "metadata": {},
   "outputs": [
    {
     "data": {
      "text/plain": [
       "tensor([[ 0.0010, -0.0024, -0.0277,  ..., -0.0048, -0.0022,  0.0038],\n",
       "        [ 0.0015, -0.0046, -0.0253,  ..., -0.0068, -0.0100, -0.0002],\n",
       "        [ 0.0039, -0.0005, -0.0245,  ..., -0.0117, -0.0028, -0.0063],\n",
       "        ...,\n",
       "        [ 0.0005, -0.0014, -0.0205,  ..., -0.0181, -0.0064, -0.0108],\n",
       "        [ 0.0036, -0.0039, -0.0214,  ..., -0.0159, -0.0070, -0.0100],\n",
       "        [ 0.0019, -0.0003, -0.0203,  ..., -0.0163, -0.0006, -0.0050]])"
      ]
     },
     "execution_count": 11,
     "metadata": {},
     "output_type": "execute_result"
    }
   ],
   "source": [
    "tvs_tensor"
   ]
  },
  {
   "cell_type": "code",
   "execution_count": null,
   "id": "4430aae8",
   "metadata": {},
   "outputs": [],
   "source": []
  },
  {
   "cell_type": "markdown",
   "id": "bcc84b52",
   "metadata": {},
   "source": [
    "### 単語から似ているか計算"
   ]
  },
  {
   "cell_type": "code",
   "execution_count": 12,
   "id": "6f7af9f4",
   "metadata": {},
   "outputs": [],
   "source": [
    "def calcCosineSimilarity(sampletv, datanum, tensor):\n",
    "    cos_sims = []\n",
    "    for i in trange(datanum):\n",
    "        cs = F.cosine_similarity(sampletv, tensor[i])\n",
    "        cos_sims.append(cs.item())\n",
    "    return pd.DataFrame(cos_sims)[0]"
   ]
  },
  {
   "cell_type": "markdown",
   "id": "04ff4083",
   "metadata": {},
   "source": [
    "似ているカテゴリ→似ているプレイリスト"
   ]
  },
  {
   "cell_type": "code",
   "execution_count": 16,
   "id": "c1621874",
   "metadata": {},
   "outputs": [
    {
     "name": "stdout",
     "output_type": "stream",
     "text": [
      " categ inference\n"
     ]
    },
    {
     "data": {
      "application/vnd.jupyter.widget-view+json": {
       "model_id": "2ac97e15a42340148f19f190f609730d",
       "version_major": 2,
       "version_minor": 0
      },
      "text/plain": [
       "  0%|          | 0/45 [00:00<?, ?it/s]"
      ]
     },
     "metadata": {},
     "output_type": "display_data"
    },
    {
     "name": "stdout",
     "output_type": "stream",
     "text": [
      "0.9959666132926941 : funk\n",
      "\n",
      " playlist inference\n"
     ]
    },
    {
     "data": {
      "application/vnd.jupyter.widget-view+json": {
       "model_id": "da80a68c36e240178987028da4d648b2",
       "version_major": 2,
       "version_minor": 0
      },
      "text/plain": [
       "  0%|          | 0/25 [00:00<?, ?it/s]"
      ]
     },
     "metadata": {},
     "output_type": "display_data"
    },
    {
     "name": "stdout",
     "output_type": "stream",
     "text": [
      "0.9962126016616821 : funk Funk Outta Here Funk to these good ol' funky soul classics!\n",
      "id =  37i9dQZF1DX70TzPK5buVf\n"
     ]
    }
   ],
   "source": [
    "input_text = \"home 聞きたい\"\n",
    "sampletv = getTextVector(model, tokenizer, input_text)\n",
    "\n",
    "print(\" categ inference\")\n",
    "cos_sims = calcCosineSimilarity(sampletv, len(categories), categories_tensor)\n",
    "most_sim = cos_sims.idxmax()\n",
    "print(cos_sims[most_sim], \":\", categories[\"category\"][most_sim])\n",
    "\n",
    "# カテゴリの名前\n",
    "ctg_name = categories[\"category\"][most_sim]\n",
    "# playlist全体のtensorから抜き出す\n",
    "ctg_tvs_tensor = tvs_tensor[playlists_df[\"category\"]==ctg_name]\n",
    "# 抜き出す最初のindexを取り出し\n",
    "idx = categories[\"index\"][most_sim]\n",
    "\n",
    "print(\"\\n playlist inference\")\n",
    "cos_sims = calcCosineSimilarity(sampletv, len(ctg_tvs_tensor), ctg_tvs_tensor)\n",
    "most_sim = cos_sims.idxmax()\n",
    "print(cos_sims[most_sim], \":\", playlists_text[idx+most_sim])\n",
    "playlistId = playlists_df[\"id\"][idx+most_sim]\n",
    "print(\"id = \", playlistId)"
   ]
  },
  {
   "cell_type": "code",
   "execution_count": null,
   "id": "ca1689ee",
   "metadata": {},
   "outputs": [],
   "source": []
  },
  {
   "cell_type": "markdown",
   "id": "7ed1b756",
   "metadata": {},
   "source": [
    "いきなり似ているプレイリスト"
   ]
  },
  {
   "cell_type": "code",
   "execution_count": 17,
   "id": "1e7beffb",
   "metadata": {},
   "outputs": [
    {
     "data": {
      "application/vnd.jupyter.widget-view+json": {
       "model_id": "82aeb5331a3f439dad664cd299b8e178",
       "version_major": 2,
       "version_minor": 0
      },
      "text/plain": [
       "  0%|          | 0/1761 [00:00<?, ?it/s]"
      ]
     },
     "metadata": {},
     "output_type": "display_data"
    },
    {
     "name": "stdout",
     "output_type": "stream",
     "text": [
      "similarity:  0.997899055480957\n",
      "playlist:  karaoke 歌うJ-Rap - Sing-Along - Spotifyの新機能シンガロングを使って、ラッパー気分！*歌詞ページ左下の🎤ボタンを押してお楽しみください。\n",
      "id =  37i9dQZF1DXbXiYi0xyeiI\n"
     ]
    }
   ],
   "source": [
    "input_text = \"home 聞きたい\"\n",
    "sampletv = getTextVector(model, tokenizer, input_text)\n",
    "\n",
    "cos_sims = calcCosineSimilarity(sampletv, len(tvs_tensor), tvs_tensor)\n",
    "most_sim = cos_sims.idxmax()\n",
    "print(\"similarity: \", cos_sims[most_sim])\n",
    "print(\"playlist: \", playlists_text[most_sim])\n",
    "playlistId = playlists_df[\"id\"][most_sim]\n",
    "print(\"id = \", playlistId)"
   ]
  },
  {
   "cell_type": "code",
   "execution_count": null,
   "id": "945d19a8",
   "metadata": {},
   "outputs": [],
   "source": []
  }
 ],
 "metadata": {
  "kernelspec": {
   "display_name": "Python 3 (ipykernel)",
   "language": "python",
   "name": "python3"
  },
  "language_info": {
   "codemirror_mode": {
    "name": "ipython",
    "version": 3
   },
   "file_extension": ".py",
   "mimetype": "text/x-python",
   "name": "python",
   "nbconvert_exporter": "python",
   "pygments_lexer": "ipython3",
   "version": "3.8.5"
  }
 },
 "nbformat": 4,
 "nbformat_minor": 5
}

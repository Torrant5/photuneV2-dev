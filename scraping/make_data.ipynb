{
 "cells": [
  {
   "cell_type": "code",
   "execution_count": 1,
   "id": "13f47fe0-24c0-46df-841f-b3a334515499",
   "metadata": {},
   "outputs": [],
   "source": [
    "import pandas as pd"
   ]
  },
  {
   "cell_type": "markdown",
   "id": "26ac7644-47fa-480a-9004-f6b511b3eb06",
   "metadata": {},
   "source": [
    "## dataframeにする"
   ]
  },
  {
   "cell_type": "code",
   "execution_count": 2,
   "id": "9c7b4556-887a-4ff2-a018-cb17c51d2707",
   "metadata": {},
   "outputs": [],
   "source": [
    "df = pd.read_pickle('data/categories.pkl')"
   ]
  },
  {
   "cell_type": "code",
   "execution_count": 3,
   "id": "1d3e1128-972f-44b1-87a3-63b70c023864",
   "metadata": {},
   "outputs": [
    {
     "name": "stdout",
     "output_type": "stream",
     "text": [
      "music_and_talk\n",
      "thirdparty\n",
      "bollywood\n"
     ]
    }
   ],
   "source": [
    "playlists = {}\n",
    "playlist_list = []\n",
    "for name in df[\"id\"]:\n",
    "    try:\n",
    "        playlists[name]=pd.read_pickle('data/' +name +'.pkl')\n",
    "        playlist_list.append(name)\n",
    "    except:\n",
    "        print(name)"
   ]
  },
  {
   "cell_type": "code",
   "execution_count": 4,
   "id": "e6dbc589-c147-4875-b8cf-962dec9a19c9",
   "metadata": {},
   "outputs": [],
   "source": [
    "#playlist_list"
   ]
  },
  {
   "cell_type": "code",
   "execution_count": 5,
   "id": "5fb01476-a072-4e5c-801e-e9440637a4d0",
   "metadata": {},
   "outputs": [],
   "source": [
    "for name in playlist_list:\n",
    "    playlists[name][\"category\"]=name"
   ]
  },
  {
   "cell_type": "code",
   "execution_count": 6,
   "id": "7f5f52cf-e2f8-4266-9938-9161d6003fa2",
   "metadata": {},
   "outputs": [],
   "source": [
    "all_playlist = pd.concat([playlists[name] for name in playlist_list]).reset_index(drop=True)"
   ]
  },
  {
   "cell_type": "code",
   "execution_count": 7,
   "id": "e7ba29dd-bec1-48c7-be59-e8dc265efb70",
   "metadata": {},
   "outputs": [
    {
     "data": {
      "text/html": [
       "<div>\n",
       "<style scoped>\n",
       "    .dataframe tbody tr th:only-of-type {\n",
       "        vertical-align: middle;\n",
       "    }\n",
       "\n",
       "    .dataframe tbody tr th {\n",
       "        vertical-align: top;\n",
       "    }\n",
       "\n",
       "    .dataframe thead th {\n",
       "        text-align: right;\n",
       "    }\n",
       "</style>\n",
       "<table border=\"1\" class=\"dataframe\">\n",
       "  <thead>\n",
       "    <tr style=\"text-align: right;\">\n",
       "      <th></th>\n",
       "      <th>name</th>\n",
       "      <th>description</th>\n",
       "      <th>id</th>\n",
       "      <th>category</th>\n",
       "    </tr>\n",
       "  </thead>\n",
       "  <tbody>\n",
       "    <tr>\n",
       "      <th>0</th>\n",
       "      <td>Tokyo Super Hits!</td>\n",
       "      <td>日本のポップシーンを彩る最新ベスト50。毎週月曜日更新。Cover: Ado</td>\n",
       "      <td>37i9dQZF1DXafb0IuPwJyF</td>\n",
       "      <td>toplists</td>\n",
       "    </tr>\n",
       "    <tr>\n",
       "      <th>1</th>\n",
       "      <td>Hot Hits Japan</td>\n",
       "      <td>世界中のトレンドと日本の最新ヒット曲をまとめてお届けします。Cover: マカロニえんぴつ</td>\n",
       "      <td>37i9dQZF1DXayDMsJG9ZBv</td>\n",
       "      <td>toplists</td>\n",
       "    </tr>\n",
       "    <tr>\n",
       "      <th>2</th>\n",
       "      <td>Today's Top Hits</td>\n",
       "      <td>Gunna is on top of the Hottest 50!</td>\n",
       "      <td>37i9dQZF1DXcBWIGoYBM5M</td>\n",
       "      <td>toplists</td>\n",
       "    </tr>\n",
       "    <tr>\n",
       "      <th>3</th>\n",
       "      <td>Top 50 - Global</td>\n",
       "      <td>Your daily update of the most played tracks ri...</td>\n",
       "      <td>37i9dQZEVXbMDoHDwVN2tF</td>\n",
       "      <td>toplists</td>\n",
       "    </tr>\n",
       "    <tr>\n",
       "      <th>4</th>\n",
       "      <td>Viral 50 - Global</td>\n",
       "      <td>Your daily update of the most viral tracks rig...</td>\n",
       "      <td>37i9dQZEVXbLiRSasKsNU9</td>\n",
       "      <td>toplists</td>\n",
       "    </tr>\n",
       "    <tr>\n",
       "      <th>...</th>\n",
       "      <td>...</td>\n",
       "      <td>...</td>\n",
       "      <td>...</td>\n",
       "      <td>...</td>\n",
       "    </tr>\n",
       "    <tr>\n",
       "      <th>1756</th>\n",
       "      <td>Electronic Christmas</td>\n",
       "      <td>Dance and Electronic tracks for the season &lt;3</td>\n",
       "      <td>37i9dQZF1DX2zhLcnFr1qI</td>\n",
       "      <td>holidays</td>\n",
       "    </tr>\n",
       "    <tr>\n",
       "      <th>1757</th>\n",
       "      <td>Relaxing Christmas</td>\n",
       "      <td>Relax to these chilled instrumental Christmas ...</td>\n",
       "      <td>37i9dQZF1DX6pJ4E78jhBi</td>\n",
       "      <td>holidays</td>\n",
       "    </tr>\n",
       "    <tr>\n",
       "      <th>1758</th>\n",
       "      <td>Christmas Blues</td>\n",
       "      <td>Christmas classics from your favourite Blues a...</td>\n",
       "      <td>37i9dQZF1DX1qSl6wHwkrJ</td>\n",
       "      <td>holidays</td>\n",
       "    </tr>\n",
       "    <tr>\n",
       "      <th>1759</th>\n",
       "      <td>Country Christmas Spirit</td>\n",
       "      <td>Christmas music that reminds you of the \"Reaso...</td>\n",
       "      <td>37i9dQZF1DWX588lehtqJa</td>\n",
       "      <td>holidays</td>\n",
       "    </tr>\n",
       "    <tr>\n",
       "      <th>1760</th>\n",
       "      <td>Latin Christmas</td>\n",
       "      <td>The perfect Latin tunes to get in the Christma...</td>\n",
       "      <td>37i9dQZF1DX8qhRpXsdDY5</td>\n",
       "      <td>holidays</td>\n",
       "    </tr>\n",
       "  </tbody>\n",
       "</table>\n",
       "<p>1761 rows × 4 columns</p>\n",
       "</div>"
      ],
      "text/plain": [
       "                          name  \\\n",
       "0            Tokyo Super Hits!   \n",
       "1               Hot Hits Japan   \n",
       "2             Today's Top Hits   \n",
       "3              Top 50 - Global   \n",
       "4            Viral 50 - Global   \n",
       "...                        ...   \n",
       "1756      Electronic Christmas   \n",
       "1757        Relaxing Christmas   \n",
       "1758           Christmas Blues   \n",
       "1759  Country Christmas Spirit   \n",
       "1760           Latin Christmas   \n",
       "\n",
       "                                            description  \\\n",
       "0                日本のポップシーンを彩る最新ベスト50。毎週月曜日更新。Cover: Ado   \n",
       "1         世界中のトレンドと日本の最新ヒット曲をまとめてお届けします。Cover: マカロニえんぴつ   \n",
       "2                    Gunna is on top of the Hottest 50!   \n",
       "3     Your daily update of the most played tracks ri...   \n",
       "4     Your daily update of the most viral tracks rig...   \n",
       "...                                                 ...   \n",
       "1756      Dance and Electronic tracks for the season <3   \n",
       "1757  Relax to these chilled instrumental Christmas ...   \n",
       "1758  Christmas classics from your favourite Blues a...   \n",
       "1759  Christmas music that reminds you of the \"Reaso...   \n",
       "1760  The perfect Latin tunes to get in the Christma...   \n",
       "\n",
       "                          id  category  \n",
       "0     37i9dQZF1DXafb0IuPwJyF  toplists  \n",
       "1     37i9dQZF1DXayDMsJG9ZBv  toplists  \n",
       "2     37i9dQZF1DXcBWIGoYBM5M  toplists  \n",
       "3     37i9dQZEVXbMDoHDwVN2tF  toplists  \n",
       "4     37i9dQZEVXbLiRSasKsNU9  toplists  \n",
       "...                      ...       ...  \n",
       "1756  37i9dQZF1DX2zhLcnFr1qI  holidays  \n",
       "1757  37i9dQZF1DX6pJ4E78jhBi  holidays  \n",
       "1758  37i9dQZF1DX1qSl6wHwkrJ  holidays  \n",
       "1759  37i9dQZF1DWX588lehtqJa  holidays  \n",
       "1760  37i9dQZF1DX8qhRpXsdDY5  holidays  \n",
       "\n",
       "[1761 rows x 4 columns]"
      ]
     },
     "execution_count": 7,
     "metadata": {},
     "output_type": "execute_result"
    }
   ],
   "source": [
    "all_playlist"
   ]
  },
  {
   "cell_type": "code",
   "execution_count": 8,
   "id": "cd3d9346-ab2f-4764-8665-ed2ed9ca5c1d",
   "metadata": {},
   "outputs": [],
   "source": [
    "all_playlist.to_pickle('all_playlists.pkl')"
   ]
  },
  {
   "cell_type": "code",
   "execution_count": 9,
   "id": "45d4e08e-6022-48b7-9fec-5d5ac1e48444",
   "metadata": {},
   "outputs": [
    {
     "data": {
      "text/html": [
       "<div>\n",
       "<style scoped>\n",
       "    .dataframe tbody tr th:only-of-type {\n",
       "        vertical-align: middle;\n",
       "    }\n",
       "\n",
       "    .dataframe tbody tr th {\n",
       "        vertical-align: top;\n",
       "    }\n",
       "\n",
       "    .dataframe thead th {\n",
       "        text-align: right;\n",
       "    }\n",
       "</style>\n",
       "<table border=\"1\" class=\"dataframe\">\n",
       "  <thead>\n",
       "    <tr style=\"text-align: right;\">\n",
       "      <th></th>\n",
       "      <th>name</th>\n",
       "      <th>description</th>\n",
       "      <th>id</th>\n",
       "      <th>category</th>\n",
       "    </tr>\n",
       "  </thead>\n",
       "  <tbody>\n",
       "    <tr>\n",
       "      <th>0</th>\n",
       "      <td>Tokyo Super Hits!</td>\n",
       "      <td>日本のポップシーンを彩る最新ベスト50。毎週月曜日更新。Cover: Ado</td>\n",
       "      <td>37i9dQZF1DXafb0IuPwJyF</td>\n",
       "      <td>toplists</td>\n",
       "    </tr>\n",
       "    <tr>\n",
       "      <th>1</th>\n",
       "      <td>Hot Hits Japan</td>\n",
       "      <td>世界中のトレンドと日本の最新ヒット曲をまとめてお届けします。Cover: マカロニえんぴつ</td>\n",
       "      <td>37i9dQZF1DXayDMsJG9ZBv</td>\n",
       "      <td>toplists</td>\n",
       "    </tr>\n",
       "    <tr>\n",
       "      <th>2</th>\n",
       "      <td>Today's Top Hits</td>\n",
       "      <td>Gunna is on top of the Hottest 50!</td>\n",
       "      <td>37i9dQZF1DXcBWIGoYBM5M</td>\n",
       "      <td>toplists</td>\n",
       "    </tr>\n",
       "    <tr>\n",
       "      <th>3</th>\n",
       "      <td>Top 50 - Global</td>\n",
       "      <td>Your daily update of the most played tracks ri...</td>\n",
       "      <td>37i9dQZEVXbMDoHDwVN2tF</td>\n",
       "      <td>toplists</td>\n",
       "    </tr>\n",
       "    <tr>\n",
       "      <th>4</th>\n",
       "      <td>Viral 50 - Global</td>\n",
       "      <td>Your daily update of the most viral tracks rig...</td>\n",
       "      <td>37i9dQZEVXbLiRSasKsNU9</td>\n",
       "      <td>toplists</td>\n",
       "    </tr>\n",
       "    <tr>\n",
       "      <th>...</th>\n",
       "      <td>...</td>\n",
       "      <td>...</td>\n",
       "      <td>...</td>\n",
       "      <td>...</td>\n",
       "    </tr>\n",
       "    <tr>\n",
       "      <th>1756</th>\n",
       "      <td>Electronic Christmas</td>\n",
       "      <td>Dance and Electronic tracks for the season &lt;3</td>\n",
       "      <td>37i9dQZF1DX2zhLcnFr1qI</td>\n",
       "      <td>holidays</td>\n",
       "    </tr>\n",
       "    <tr>\n",
       "      <th>1757</th>\n",
       "      <td>Relaxing Christmas</td>\n",
       "      <td>Relax to these chilled instrumental Christmas ...</td>\n",
       "      <td>37i9dQZF1DX6pJ4E78jhBi</td>\n",
       "      <td>holidays</td>\n",
       "    </tr>\n",
       "    <tr>\n",
       "      <th>1758</th>\n",
       "      <td>Christmas Blues</td>\n",
       "      <td>Christmas classics from your favourite Blues a...</td>\n",
       "      <td>37i9dQZF1DX1qSl6wHwkrJ</td>\n",
       "      <td>holidays</td>\n",
       "    </tr>\n",
       "    <tr>\n",
       "      <th>1759</th>\n",
       "      <td>Country Christmas Spirit</td>\n",
       "      <td>Christmas music that reminds you of the \"Reaso...</td>\n",
       "      <td>37i9dQZF1DWX588lehtqJa</td>\n",
       "      <td>holidays</td>\n",
       "    </tr>\n",
       "    <tr>\n",
       "      <th>1760</th>\n",
       "      <td>Latin Christmas</td>\n",
       "      <td>The perfect Latin tunes to get in the Christma...</td>\n",
       "      <td>37i9dQZF1DX8qhRpXsdDY5</td>\n",
       "      <td>holidays</td>\n",
       "    </tr>\n",
       "  </tbody>\n",
       "</table>\n",
       "<p>1761 rows × 4 columns</p>\n",
       "</div>"
      ],
      "text/plain": [
       "                          name  \\\n",
       "0            Tokyo Super Hits!   \n",
       "1               Hot Hits Japan   \n",
       "2             Today's Top Hits   \n",
       "3              Top 50 - Global   \n",
       "4            Viral 50 - Global   \n",
       "...                        ...   \n",
       "1756      Electronic Christmas   \n",
       "1757        Relaxing Christmas   \n",
       "1758           Christmas Blues   \n",
       "1759  Country Christmas Spirit   \n",
       "1760           Latin Christmas   \n",
       "\n",
       "                                            description  \\\n",
       "0                日本のポップシーンを彩る最新ベスト50。毎週月曜日更新。Cover: Ado   \n",
       "1         世界中のトレンドと日本の最新ヒット曲をまとめてお届けします。Cover: マカロニえんぴつ   \n",
       "2                    Gunna is on top of the Hottest 50!   \n",
       "3     Your daily update of the most played tracks ri...   \n",
       "4     Your daily update of the most viral tracks rig...   \n",
       "...                                                 ...   \n",
       "1756      Dance and Electronic tracks for the season <3   \n",
       "1757  Relax to these chilled instrumental Christmas ...   \n",
       "1758  Christmas classics from your favourite Blues a...   \n",
       "1759  Christmas music that reminds you of the \"Reaso...   \n",
       "1760  The perfect Latin tunes to get in the Christma...   \n",
       "\n",
       "                          id  category  \n",
       "0     37i9dQZF1DXafb0IuPwJyF  toplists  \n",
       "1     37i9dQZF1DXayDMsJG9ZBv  toplists  \n",
       "2     37i9dQZF1DXcBWIGoYBM5M  toplists  \n",
       "3     37i9dQZEVXbMDoHDwVN2tF  toplists  \n",
       "4     37i9dQZEVXbLiRSasKsNU9  toplists  \n",
       "...                      ...       ...  \n",
       "1756  37i9dQZF1DX2zhLcnFr1qI  holidays  \n",
       "1757  37i9dQZF1DX6pJ4E78jhBi  holidays  \n",
       "1758  37i9dQZF1DX1qSl6wHwkrJ  holidays  \n",
       "1759  37i9dQZF1DWX588lehtqJa  holidays  \n",
       "1760  37i9dQZF1DX8qhRpXsdDY5  holidays  \n",
       "\n",
       "[1761 rows x 4 columns]"
      ]
     },
     "execution_count": 9,
     "metadata": {},
     "output_type": "execute_result"
    }
   ],
   "source": [
    "all_playlist"
   ]
  },
  {
   "cell_type": "markdown",
   "id": "c70b154c-12c3-4914-88d9-4704aacd29cc",
   "metadata": {},
   "source": [
    "一応CSVでも保存"
   ]
  },
  {
   "cell_type": "code",
   "execution_count": 10,
   "id": "75fe2634-473e-49d4-a416-e0c3c870f919",
   "metadata": {},
   "outputs": [],
   "source": [
    "all_playlist.to_csv('all_playlists.csv')"
   ]
  },
  {
   "cell_type": "markdown",
   "id": "eef33ab5-7403-4f5f-90be-7ea6cfa7b8e6",
   "metadata": {},
   "source": [
    "## dataframeからテキストへ"
   ]
  },
  {
   "cell_type": "code",
   "execution_count": 11,
   "id": "d6766b71-6f97-47ad-9b8e-c86a006040f1",
   "metadata": {},
   "outputs": [],
   "source": [
    "playlists_text = (all_playlist[\"category\"] +\" \" +all_playlist[\"name\"] +\" \" + all_playlist[\"description\"])"
   ]
  },
  {
   "cell_type": "code",
   "execution_count": 12,
   "id": "0dd9aada-945a-463f-a700-b3c9583c905a",
   "metadata": {},
   "outputs": [],
   "source": [
    "pd.to_pickle(playlists_text.values.tolist(), \"playlists_text.pkl\")"
   ]
  },
  {
   "cell_type": "code",
   "execution_count": 13,
   "id": "cf3209a4-e2ba-4771-8c51-0c8b35e6bf87",
   "metadata": {},
   "outputs": [],
   "source": [
    "playlists_text.to_csv('playlists_text.csv')"
   ]
  },
  {
   "cell_type": "code",
   "execution_count": 14,
   "id": "c5f551ed-4f64-406c-8283-0b3489c9fbbe",
   "metadata": {},
   "outputs": [
    {
     "data": {
      "text/plain": [
       "0    toplists Tokyo Super Hits! 日本のポップシーンを彩る最新ベスト50...\n",
       "1    toplists Hot Hits Japan 世界中のトレンドと日本の最新ヒット曲をまとめ...\n",
       "2    toplists Today's Top Hits Gunna is on top of t...\n",
       "3    toplists Top 50 - Global Your daily update of ...\n",
       "4    toplists Viral 50 - Global Your daily update o...\n",
       "dtype: object"
      ]
     },
     "execution_count": 14,
     "metadata": {},
     "output_type": "execute_result"
    }
   ],
   "source": [
    "playlists_text[:5]"
   ]
  },
  {
   "cell_type": "code",
   "execution_count": null,
   "id": "70b9491c-406e-48ee-98da-b23452072006",
   "metadata": {},
   "outputs": [],
   "source": []
  }
 ],
 "metadata": {
  "kernelspec": {
   "display_name": "Python 3 (ipykernel)",
   "language": "python",
   "name": "python3"
  },
  "language_info": {
   "codemirror_mode": {
    "name": "ipython",
    "version": 3
   },
   "file_extension": ".py",
   "mimetype": "text/x-python",
   "name": "python",
   "nbconvert_exporter": "python",
   "pygments_lexer": "ipython3",
   "version": "3.8.5"
  }
 },
 "nbformat": 4,
 "nbformat_minor": 5
}
